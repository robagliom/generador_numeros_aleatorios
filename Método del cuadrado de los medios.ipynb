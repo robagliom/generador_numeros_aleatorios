{
 "cells": [
  {
   "cell_type": "code",
   "execution_count": 20,
   "metadata": {},
   "outputs": [
    {
     "name": "stdout",
     "output_type": "stream",
     "text": [
      "n:  4\n"
     ]
    }
   ],
   "source": [
    "#Aplicar el metodo del cuadrado de los medios con un Z0 = 1009\n",
    "z0 = 1009\n",
    "\n",
    "#Longitud z0\n",
    "n = len(str(z0))\n",
    "print('n: ', n)\n",
    "\n",
    "#Notación: zi_2 es zi cuadrado"
   ]
  },
  {
   "cell_type": "code",
   "execution_count": 61,
   "metadata": {},
   "outputs": [],
   "source": [
    "# Funcion para encontrar los numeros centrales\n",
    "\n",
    "def central_number(num):\n",
    "    str_num = str(num)\n",
    "    sobrantes = len(str_num) - n\n",
    "\n",
    "    if sobrantes >= 0:\n",
    "        separa_ultimo_elemento = True\n",
    "        for sobrante in range( 0, sobrantes ):\n",
    "            if separa_ultimo_elemento:\n",
    "                str_num = str_num[0:-1]\n",
    "            else: # Separa el primer elemento\n",
    "                str_num = str_num[1: ]\n",
    "            separa_ultimo_elemento = not separa_ultimo_elemento\n",
    "        return str( str_num )"
   ]
  },
  {
   "cell_type": "code",
   "execution_count": 62,
   "metadata": {},
   "outputs": [],
   "source": [
    "#Si el número no tiene longitud 8, hay que agregar con ceros a la izquierda\n",
    "\n",
    "def left_ceros(num):\n",
    "    num_s = str(num)\n",
    "    while len(num_s)!=8:\n",
    "        num_s = '0' + num_s\n",
    "    return(num_s)"
   ]
  },
  {
   "cell_type": "code",
   "execution_count": 72,
   "metadata": {},
   "outputs": [
    {
     "name": "stdout",
     "output_type": "stream",
     "text": [
      "z0:  1009\n",
      "z0 cuadrado:  1018081\n",
      "z1:  0180\n",
      "u1:  0.18\n",
      "z1 cuadrado:  32400\n",
      "z2:  0324\n",
      "u2:  0.18\n",
      "z2 cuadrado:  104976\n",
      "z3:  1049\n",
      "u3:  0.18\n",
      "z3 cuadrado:  1100401\n",
      "z4:  1004\n",
      "u4:  0.18\n",
      "z4 cuadrado:  1008016\n",
      "z5:  0080\n",
      "u5:  0.18\n",
      "z5 cuadrado:  6400\n",
      "z6:  0064\n",
      "u6:  0.18\n",
      "z6 cuadrado:  4096\n",
      "z7:  0040\n",
      "u7:  0.18\n",
      "z7 cuadrado:  1600\n",
      "z8:  0016\n",
      "u8:  0.18\n",
      "z8 cuadrado:  256\n",
      "z9:  0002\n",
      "u9:  0.18\n",
      "z9 cuadrado:  4\n",
      "z10:  0000\n",
      "u10:  0.18\n",
      "z10 cuadrado:  0\n",
      "z11:  0000\n",
      "u11:  0.18\n",
      "z11 cuadrado:  0\n",
      "z12:  0000\n",
      "u12:  0.18\n",
      "z12 cuadrado:  0\n",
      "z13:  0000\n",
      "u13:  0.18\n",
      "z13 cuadrado:  0\n",
      "z14:  0000\n",
      "u14:  0.18\n",
      "z14 cuadrado:  0\n",
      "z15:  0000\n",
      "u15:  0.18\n",
      "z15 cuadrado:  0\n",
      "z16:  0000\n",
      "u16:  0.18\n",
      "z16 cuadrado:  0\n",
      "z17:  0000\n",
      "u17:  0.18\n",
      "z17 cuadrado:  0\n",
      "z18:  0000\n",
      "u18:  0.18\n",
      "z18 cuadrado:  0\n",
      "z19:  0000\n",
      "u19:  0.18\n",
      "z19 cuadrado:  0\n",
      "z20:  0000\n",
      "u20:  0.18\n"
     ]
    }
   ],
   "source": [
    "print('z0: ',z0)\n",
    "i = 0\n",
    "Zimas1 = z0\n",
    "for j in range(20):\n",
    "    Zi_2 = int(Zimas1)**2\n",
    "    print('z{} cuadrado: '.format(str(i)),Zi_2)\n",
    "\n",
    "    #Primero vemos si el número tiene 8 dígitos, sino lo copletamos\n",
    "    if len(str(Zi_2)) == 8:\n",
    "        Zimas1 = str(central_number(Zi_2))\n",
    "    else:\n",
    "        Zi_2_prima = left_ceros(Zi_2)\n",
    "        Zimas1 = str(central_number(Zi_2_prima))\n",
    "    print('z{}: '.format(str(i+1)),Zimas1)\n",
    "\n",
    "    Ui = int(z1)/1000\n",
    "    print('u{}: '.format(str(i+1)),Ui)\n",
    "    i+=1"
   ]
  }
 ],
 "metadata": {
  "kernelspec": {
   "display_name": "Python 3",
   "language": "python",
   "name": "python3"
  },
  "language_info": {
   "codemirror_mode": {
    "name": "ipython",
    "version": 3
   },
   "file_extension": ".py",
   "mimetype": "text/x-python",
   "name": "python",
   "nbconvert_exporter": "python",
   "pygments_lexer": "ipython3",
   "version": "3.6.7"
  }
 },
 "nbformat": 4,
 "nbformat_minor": 2
}
