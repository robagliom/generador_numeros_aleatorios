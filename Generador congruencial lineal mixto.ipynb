{
 "cells": [
  {
   "cell_type": "code",
   "execution_count": 2,
   "metadata": {},
   "outputs": [],
   "source": [
    "#Generar los valores U1 a U20 para identificar un comportamiento significativo (Z0=7, m=16, a=5, c=3)\n",
    "Z0 = 7\n",
    "m = 16\n",
    "a = 5\n",
    "c = 3"
   ]
  },
  {
   "cell_type": "code",
   "execution_count": 3,
   "metadata": {},
   "outputs": [],
   "source": [
    "def generador_congruencial(zi_menos1, m, a, c):\n",
    "    zi = (a*zi_menos1+c) % m\n",
    "    return zi"
   ]
  },
  {
   "cell_type": "code",
   "execution_count": 8,
   "metadata": {},
   "outputs": [
    {
     "name": "stdout",
     "output_type": "stream",
     "text": [
      "U1:  0.375\n",
      "U2:  0.0625\n",
      "U3:  0.5\n",
      "U4:  0.6875\n",
      "U5:  0.625\n",
      "U6:  0.3125\n",
      "U7:  0.75\n",
      "U8:  0.9375\n",
      "U9:  0.875\n",
      "U10:  0.5625\n",
      "U11:  0.0\n",
      "U12:  0.1875\n",
      "U13:  0.125\n",
      "U14:  0.8125\n",
      "U15:  0.25\n",
      "U16:  0.4375\n",
      "U17:  0.375\n",
      "U18:  0.0625\n",
      "U19:  0.5\n",
      "U20:  0.6875\n"
     ]
    }
   ],
   "source": [
    "zi_menos1 = Z0\n",
    "for i in range(1,21):\n",
    "    Zi = generador_congruencial(zi_menos1,m,a,c)\n",
    "    zi_menos1 = Zi\n",
    "    Ui = Zi/m\n",
    "    print('U{}: '.format(i),Ui)"
   ]
  },
  {
   "cell_type": "code",
   "execution_count": 9,
   "metadata": {},
   "outputs": [],
   "source": [
    "def divisores(numero):\n",
    "    divisor = 0\n",
    "\n",
    "    print(\"Divisores:\")\n",
    "    if numero % 2 == 0:\n",
    "        iterar = numero / 2\n",
    "    else:\n",
    "        iterar = (numero - 1) / 2\n",
    "\n",
    "    for i in range(1, int(iterar) + 1):\n",
    "        if numero % i == 0:\n",
    "            aux = numero / i\n",
    "            if aux != divisor:\n",
    "                divisor = aux\n",
    "            if i == iterar:\n",
    "                print(int(divisor), end = \"\")\n",
    "            else:\n",
    "                print(\"%d,\" % (divisor), end = \"\")"
   ]
  },
  {
   "cell_type": "code",
   "execution_count": 10,
   "metadata": {},
   "outputs": [
    {
     "name": "stdout",
     "output_type": "stream",
     "text": [
      "Divisores:\n",
      "16,8,4,2None\n",
      "Divisores:\n",
      "3None\n"
     ]
    }
   ],
   "source": [
    "#Teorema: dado un GCL mixto se puede saber si es de período completo si se cumple lo siguiente\n",
    "#1- El único entero que divide a m y c en forma simultanea (primos entre si) es 1.\n",
    "#2- Si q es un número primo que divide a m, entonces q divide a a -1\n",
    "#3- Si 4 divide a m, entonces 4 divide a a -1\n",
    "\n",
    "#1-\n",
    "print(divisores(m))\n",
    "print(divisores(c))"
   ]
  },
  {
   "cell_type": "code",
   "execution_count": null,
   "metadata": {},
   "outputs": [],
   "source": []
  }
 ],
 "metadata": {
  "kernelspec": {
   "display_name": "Python 3",
   "language": "python",
   "name": "python3"
  },
  "language_info": {
   "codemirror_mode": {
    "name": "ipython",
    "version": 3
   },
   "file_extension": ".py",
   "mimetype": "text/x-python",
   "name": "python",
   "nbconvert_exporter": "python",
   "pygments_lexer": "ipython3",
   "version": "3.6.7"
  }
 },
 "nbformat": 4,
 "nbformat_minor": 2
}
